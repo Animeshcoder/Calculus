{
  "cells": [
    {
      "cell_type": "markdown",
      "metadata": {
        "id": "view-in-github",
        "colab_type": "text"
      },
      "source": [
        "<a href=\"https://colab.research.google.com/github/Animeshcoder/Calculus/blob/main/Complete_Linear_regression.ipynb\" target=\"_parent\"><img src=\"https://colab.research.google.com/assets/colab-badge.svg\" alt=\"Open In Colab\"/></a>"
      ]
    },
    {
      "cell_type": "markdown",
      "source": [
        "# **Linear Regression**\n",
        "Linear regression method is used to estimate the slope and intercept of the straight line.\n",
        "Formula of Linear regression: \n",
        "$$y_{i} = m \\cdot x_{i} + c + ϵ_{i}$$\n",
        "\n",
        "To estimate the value of slope and intercept we will find value of $m$ and $c$ so that the following sum of error(SE) is minimized. Expression for SE is as follows:$$SE = \\sum_{i=1}^{n}(y_{i} - m \\cdot x_{i} - c)^2$$ where $m$ is slope and $c$ is intercept.To estimate values of $m$ and $c$ use following equations:\n",
        "$$\\frac{∂SE}{∂m} = 0  \\quad  and \\quad \\frac{∂SE}{∂c} = 0$$\n",
        "Hence calculated values of $m$ and $c$ are:\n",
        "$$m =\\frac{\\overline{xy} - \\overline{x}⋅\\overline{y}}{\\overline{x^2} - (\\overline{x})^2} \\quad \\quad and \\quad \\quad c = \\overline{y} - m \\cdot \\overline{x}$$ Where  $$\\overline{x} = \\frac{1}{n}\\sum_{i=1}^{n}x_{i}  \\quad \\quad and \\quad \\quad \\overline{y} = \\frac{1}{n}\\sum_{i=1}^{n}y_{i} $$"
      ],
      "metadata": {
        "id": "itcpQQew0LWl"
      }
    },
    {
      "cell_type": "markdown",
      "source": [
        "$$!! \\quad LINEAR \\quad REGRESSION \\quad FOR \\quad LINEAR \\quad EQUATION \\quad !!$$\n",
        "$$y_{i} = m \\cdot x_{i} + c + \\epsilon_{i}$$ "
      ],
      "metadata": {
        "id": "3omSeu021Frn"
      }
    },
    {
      "cell_type": "code",
      "execution_count": null,
      "metadata": {
        "id": "XxhhhgVddx9M"
      },
      "outputs": [],
      "source": [
        "import random\n",
        "import matplotlib.pyplot as plt"
      ]
    },
    {
      "cell_type": "code",
      "execution_count": null,
      "metadata": {
        "colab": {
          "base_uri": "https://localhost:8080/"
        },
        "id": "75LihzB0f_H3",
        "outputId": "e99ce85c-666c-4575-b2f3-a18cf491c375"
      },
      "outputs": [
        {
          "output_type": "stream",
          "name": "stdout",
          "text": [
            "[7.28743107169997, -3.0299759994541553, 6.2984731462991865, 13.63022803054886, 12.647202903275494, 7.974884935887558, 14.882959807046657, 21.968819078248025, 24.267832389030033, 24.631110979789685, 19.291903241145445, 22.898572288217615, 19.07971338656214, 29.85573190717215, 40.302834136166254, 42.60125471347017, 36.98059578658109, 46.04722883284418, 33.64288616527053, 44.639336259386205, 52.806115960232475, 44.86413525923022, 37.93340983884454, 42.513226834968165, 42.3543437278416, 50.74989642095292, 55.89698597362781, 66.41758605981181, 55.9739209136157, 68.12497545826481, 69.60046197966618, 66.57122277693325, 70.00428508558625, 75.02432534105829, 65.15792457148356, 71.84195454325952, 82.70959954110477, 71.84010582893627, 81.24661592080638, 80.59309333024154, 78.35080307024312, 78.9699764825526, 90.06624843618589, 95.3820632085644, 85.73849849089356, 87.95759035907801, 86.70797384089445, 104.4714760820517, 102.47508896650362, 95.72640080657003, 101.46298589918426, 106.34397908234313, 102.36694855266302, 101.38285212693918, 106.72432728384089, 119.37125000129434, 111.6972610001482, 119.36218578450733, 114.23106812600192, 121.02396002727599, 131.94555745343493, 124.59785292101265, 122.2733710199651, 135.87328013467538, 139.3019235527415, 138.7892051454061, 139.72679170446074, 127.71666049427533, 134.87992850852137, 131.49664334294528, 152.94430992795833, 151.97114549499366, 146.9652919884567, 152.97081782544717, 154.39075134984617, 151.68269061503628, 151.95561581228984, 152.88329568023903, 150.575048118435, 151.72183192978613, 160.23530689748773, 163.59772760861665, 169.296641824557, 175.8243327381356, 166.01310371217602, 169.48019971995294, 178.4259929825106, 177.34716844080728, 176.05009110112397, 177.99147922759093, 180.44093442288946, 191.94250631430455, 180.9156482303523, 181.9021487248656, 194.39707682009043, 183.43965854712442, 190.31046489228527, 194.13517884648135, 200.70624608672395, 191.49357066676768]\n"
          ]
        }
      ],
      "source": [
        "m = 2\n",
        "c = 3\n",
        "xi = [i for i in range(100)]\n",
        "yi = []\n",
        "for i in xi:\n",
        "  yi.append(m*i + c + (random.random()-0.5)*20)\n",
        "  \n",
        "print(yi)"
      ]
    },
    {
      "cell_type": "code",
      "source": [
        "# calculate the mean value of xi and yi\n",
        "mean_x = sum(xi) / len(xi)\n",
        "mean_y = sum(yi) / len(yi)\n",
        "\n",
        "\n",
        "# mean value of summation of xi*yi\n",
        "xiyi = sum([xi[i] * yi[i] for i in range(100)])/len(xi)\n",
        "\n",
        "# mean value of summation of xi^2 \n",
        "x2 = sum([i*i for i in xi])/len(xi)"
      ],
      "metadata": {
        "id": "6_mCuwGHXkoQ"
      },
      "execution_count": null,
      "outputs": []
    },
    {
      "cell_type": "code",
      "source": [
        "nume = 0\n",
        "denom = 0\n",
        "for i in range(len(xi)):\n",
        "  nume += xiyi - mean_x*mean_y\n",
        "  denom += x2 - mean_x**2\n"
      ],
      "metadata": {
        "id": "pKF-wf-zXkxq"
      },
      "execution_count": null,
      "outputs": []
    },
    {
      "cell_type": "code",
      "source": [
        "# calculate m_new and c_new\n",
        "m_new = nume / denom\n",
        "c_new = sum(yi) / len(yi) - m_new * sum(xi) / len(xi)\n",
        "print(m_new)\n",
        "print(c_new)"
      ],
      "metadata": {
        "id": "eNO_X1aIXk6D"
      },
      "execution_count": null,
      "outputs": []
    },
    {
      "cell_type": "code",
      "source": [
        "# calculation of yi after putting values of m_new and c_new in equation\n",
        "y_new = []\n",
        "for i in range(100):\n",
        "  y_new.append(m_new * xi[i] + c_new)"
      ],
      "metadata": {
        "id": "GIJP7pOxYeu0"
      },
      "execution_count": null,
      "outputs": []
    },
    {
      "cell_type": "code",
      "execution_count": null,
      "metadata": {
        "colab": {
          "base_uri": "https://localhost:8080/",
          "height": 265
        },
        "id": "KSMLo6T3srkj",
        "outputId": "02031e11-a048-4c47-b7de-5f2f428f9002"
      },
      "outputs": [
        {
          "output_type": "display_data",
          "data": {
            "text/plain": [
              "<Figure size 432x288 with 1 Axes>"
            ],
            "image/png": "[encoded data removed]"
          },
          "metadata": {
            "needs_background": "light"
          }
        }
      ],
      "source": [
        "plt.scatter(xi, yi)\n",
        "plt.plot(xi, y_new, color = 'red' )\n",
        "plt.show()\n"
      ]
    },
    {
      "cell_type": "markdown",
      "metadata": {
        "id": "mZuO67avx6Hg"
      },
      "source": [
        "$$!! \\quad LINEAR \\quad REGRESSION \\quad FOR \\quad EXPONENTIAL \\quad EQUATION \\quad !!$$\n",
        "$$y_{i} = β\\cdot e^{γx_{i} + ϵ_{i}}$$\n",
        "To solve this by linear regression first of all convert it into linear equation by taking log on both side:$$\\log{y_{i}} =  \\log{β} + γ\\cdot x_{i} + ϵ_{i}$$consider  $ \\quad y_{i}^{new}= \\log{y_{i}}, \\quad c = \\log{β} \\quad and \\quad m = γ$\n",
        "\n",
        "with this new terms apply linear regression method to find $β$ and $γ$."
      ]
    },
    {
      "cell_type": "code",
      "execution_count": null,
      "metadata": {
        "id": "oynN8OUhyCBa"
      },
      "outputs": [],
      "source": [
        "import math\n",
        "import random\n",
        "import matplotlib.pyplot as plt"
      ]
    },
    {
      "cell_type": "code",
      "execution_count": null,
      "metadata": {
        "id": "G68B8KU0yGPi"
      },
      "outputs": [],
      "source": [
        "beta = 2\n",
        "gama = 0.05"
      ]
    },
    {
      "cell_type": "code",
      "execution_count": null,
      "metadata": {
        "colab": {
          "base_uri": "https://localhost:8080/"
        },
        "id": "5gHeYv1DyHU-",
        "outputId": "e0f61c97-4f3f-4059-c223-48d178a0e0a2"
      },
      "outputs": [
        {
          "output_type": "stream",
          "name": "stdout",
          "text": [
            "[1.6562120164813114, 1.6022655801897876, 2.8608259411217087, 1.6194979164527625, 3.9183877615422538, 3.712312630378178, 2.6806445249535775, 2.8124954355512695, 2.7602008959869058, 2.350209390255475, 2.261022210804269, 3.922934306491311, 4.053219163809499, 3.5969151112858024, 4.300663363706327, 6.433256995334042, 7.148779585345376, 5.788313259424918, 7.0832930437963855, 7.534187688348317, 6.454103193840928, 6.872588224118988, 9.020356346395106, 7.260169412987036, 6.870898713471875, 6.685625435932049, 6.393410921678843, 11.610176479364451, 11.808966241620583, 8.2831961124698, 11.064062451526745, 11.182851568527532, 16.18049847045793, 9.07480593432143, 8.141764537237536, 9.846785208857371, 11.189395275312046, 13.737791335047639, 16.094134801895642, 14.974799979123633, 11.099886209520458, 18.052599238530476, 21.995069600610382, 26.86483866250965, 16.6391925992512, 31.005783914887765, 17.678207021920887, 16.132272797702385, 17.664784067231427, 29.470054946527718, 24.071832039440576, 30.90628487566664, 26.327729258389123, 40.65065439002978, 25.241600883687937, 21.37367287543452, 28.617543253829446, 55.0326724391348, 37.357416701596804, 43.741268180757345, 57.05956306026937, 50.3634744725139, 38.20590960516078, 61.26834353039381, 54.75283972515262, 64.57072172213829, 66.22890881303749, 40.34643286600623, 48.45891506401512, 77.67616751163423, 74.72529988522015, 44.87885244255389, 99.78949436574896, 67.80601038105735, 118.1425752617659, 133.29412771607142, 78.91539438922003, 63.309334096377185, 132.4653224582871, 157.94292538648372, 166.4217475683129, 104.1528751118868, 145.10989451866317, 163.703806992085, 120.21588787524406, 178.25181608287843, 194.58226087228329, 160.90210482010235, 218.19918765300446, 131.7506447716768, 121.06256063626631, 204.4312056426666, 251.21150304428122, 294.444635200641, 172.48607713364325, 220.37011624477853, 335.0577703816317, 341.6289900783525, 417.02084246225104, 418.74413563343705]\n"
          ]
        }
      ],
      "source": [
        "xj = [i for i in range(100)]\n",
        "yj = []\n",
        "for i in xj:\n",
        "  yj.append((beta*math.exp(gama * i + (random.random()-0.5))))\n",
        "print(yj)\n"
      ]
    },
    {
      "cell_type": "code",
      "source": [
        "# calculate the mean value of xj and zj\n",
        "zj = [math.log(yj[i]) for i in range(100)]\n",
        "mean_xj = sum(xj) / len(xj)\n",
        "mean_zj = sum(zj) / len(yj)\n",
        "\n",
        "\n",
        "# mean value of summation of xj*yj\n",
        "xjzj = sum([xj[i] * zj[i] for i in range(100)])/len(xj)\n",
        "\n",
        "# mean value of summation of xi^2 \n",
        "x2j = sum([i*i for i in xj])/len(xj)"
      ],
      "metadata": {
        "id": "8tG_NIgTZmeO"
      },
      "execution_count": null,
      "outputs": []
    },
    {
      "cell_type": "code",
      "source": [
        "nume = 0\n",
        "denom = 0\n",
        "for i in range(len(xj)):\n",
        "  nume += xjzj - mean_xj*mean_zj\n",
        "  denom += x2j - mean_xj**2"
      ],
      "metadata": {
        "id": "6Mp21KWkZml1"
      },
      "execution_count": null,
      "outputs": []
    },
    {
      "cell_type": "code",
      "source": [
        "# calculate m_new and c_new\n",
        "g_new = nume / denom\n",
        "b_new = math.exp(sum(zj) / len(zj) - g_new * sum(xj) / len(xj))\n",
        "print(g_new)\n",
        "print(b_new)"
      ],
      "metadata": {
        "colab": {
          "base_uri": "https://localhost:8080/"
        },
        "id": "qSbE4PSAZmvC",
        "outputId": "17f46dfe-d5d7-4a18-c4cf-55f9026afab9"
      },
      "execution_count": null,
      "outputs": [
        {
          "output_type": "stream",
          "name": "stdout",
          "text": [
            "0.05055118059469018\n",
            "2.132084802822356\n"
          ]
        }
      ]
    },
    {
      "cell_type": "code",
      "source": [
        "# calculation of yi after putting values of m_new and c_new in equation\n",
        "yj_new = []\n",
        "for i in range(100):\n",
        "  yj_new.append(b_new*math.exp(xi[i]*g_new))"
      ],
      "metadata": {
        "id": "yxwuCpn7Zm7A"
      },
      "execution_count": null,
      "outputs": []
    },
    {
      "cell_type": "code",
      "execution_count": null,
      "metadata": {
        "colab": {
          "base_uri": "https://localhost:8080/",
          "height": 265
        },
        "id": "oCwqANhp6Gz7",
        "outputId": "98e9df98-4f1a-4458-8051-355e41a84278"
      },
      "outputs": [
        {
          "output_type": "display_data",
          "data": {
            "text/plain": [
              "<Figure size 432x288 with 1 Axes>"
            ],
            "image/png": "[encoded data removed]"
          },
          "metadata": {
            "needs_background": "light"
          }
        }
      ],
      "source": [
        "plt.scatter(xj, yj)\n",
        "plt.plot(xj, yj_new, color = 'red' )\n",
        "plt.show()"
      ]
    },
    {
      "cell_type": "markdown",
      "source": [
        "$$!!\\quad LINEAR \\quad REGRESSION \\quad FOR \\quad POLYNOMIAL \\quad FUNCTION\\quad !!$$\n",
        "$$y_{i} = m_{0} + m_{1}x_{i} + m_{2}x_{i}^{2} + m_{3}x_{i}^{3} + m_{4}x_{i}^{4} + .....$$\n",
        "To solve this by linear regression first of all convert into linear equation of multi variable as follows:\n",
        "$$y_{i} = m_{0} + m_{1}x_{1i} + m_{2}x_{2i} + m_{3}x_{3i} .......$$where  $ \\quad x_{1i} = x_{i}, \\quad x_{2i} = x_{i}^{2}, x_{3i} = x_{i}^{3} $ and so on.....\n",
        "\n",
        "Now solve linear equation by using linear regression."
      ],
      "metadata": {
        "id": "7_imjnWK6AYf"
      }
    },
    {
      "cell_type": "code",
      "source": [
        "import numpy as np\n",
        "degree = int(input(\"Enter the degree of the polynomial: \"))\n",
        "user_coeffs = [float(input(f\"Enter coefficient for x^{i}: \")) for i in range(degree+1)]"
      ],
      "metadata": {
        "id": "Bu2t7OLv2iAu"
      },
      "execution_count": null,
      "outputs": []
    },
    {
      "cell_type": "code",
      "source": [
        "\n",
        "x = list(range(100))\n",
        "y = [sum(user_coeffs[i]*x[j]**i for i in range(degree+1)) for j in range(100)]"
      ],
      "metadata": {
        "id": "8kYO0l5r2kva"
      },
      "execution_count": null,
      "outputs": []
    },
    {
      "cell_type": "code",
      "source": [
        "n = len(x)\n",
        "X = np.array([[x[i]**j for j in range(degree+1)] for i in range(n)])\n",
        "Y = np.array(y)"
      ],
      "metadata": {
        "id": "xY6S_b952nC4"
      },
      "execution_count": null,
      "outputs": []
    },
    {
      "cell_type": "code",
      "source": [
        "coeffs, residuals, rank, s = np.linalg.lstsq(X, Y, rcond=None)\n",
        "print(\"Calculated coefficients: \", coeffs)\n",
        "print(\"User coefficients: \", user_coeffs)\n"
      ],
      "metadata": {
        "colab": {
          "base_uri": "https://localhost:8080/"
        },
        "id": "Q30i_ZOCJpxI",
        "outputId": "52354399-f3a2-4179-e050-1ec54f6dd5ad"
      },
      "execution_count": null,
      "outputs": [
        {
          "output_type": "stream",
          "name": "stdout",
          "text": [
            "Enter the degree of the polynomial: 5\n",
            "Enter coefficient for x^0: 4\n",
            "Enter coefficient for x^1: 5\n",
            "Enter coefficient for x^2: 7\n",
            "Enter coefficient for x^3: 9\n",
            "Enter coefficient for x^4: 34\n",
            "Enter coefficient for x^5: 43\n",
            "Model coefficients:  [ 3.99983252  5.0000155   6.9999993   9.00000002 34.         43.        ]\n",
            "User coefficients:  [4.0, 5.0, 7.0, 9.0, 34.0, 43.0]\n"
          ]
        }
      ]
    }
  ],
  "metadata": {
    "colab": {
      "provenance": [],
      "authorship_tag": "ABX9TyOlMdmJ8lkz35K+jJ/rq0UL",
      "include_colab_link": true
    },
    "kernelspec": {
      "display_name": "Python 3",
      "name": "python3"
    },
    "language_info": {
      "name": "python"
    }
  },
  "nbformat": 4,
  "nbformat_minor": 0
}