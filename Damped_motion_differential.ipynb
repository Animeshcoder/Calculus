{
  "nbformat": 4,
  "nbformat_minor": 0,
  "metadata": {
    "colab": {
      "provenance": [],
      "authorship_tag": "ABX9TyOTI7l8gZkgmkxvu9W1T8wE",
      "include_colab_link": true
    },
    "kernelspec": {
      "name": "python3",
      "display_name": "Python 3"
    },
    "language_info": {
      "name": "python"
    }
  },
  "cells": [
    {
      "cell_type": "markdown",
      "metadata": {
        "id": "view-in-github",
        "colab_type": "text"
      },
      "source": [
        "<a href=\"https://colab.research.google.com/github/Animeshcoder/Calculus/blob/main/Damped_motion_differential.ipynb\" target=\"_parent\"><img src=\"https://colab.research.google.com/assets/colab-badge.svg\" alt=\"Open In Colab\"/></a>"
      ]
    },
    {
      "cell_type": "code",
      "execution_count": null,
      "metadata": {
        "id": "anufPuLjCmmm"
      },
      "outputs": [],
      "source": [
        "# Python code for differential equation\n",
        "# Adding Required Modules\n",
        "import math\n",
        "import plotly.express as px"
      ]
    },
    {
      "cell_type": "code",
      "source": [
        "# Input Set-Up\n",
        "A = float(input(\"Enter value of A: \"))\n",
        "B = float(input(\"Enter value of B: \"))\n",
        "C = float(input(\"Enter value of C: \"))\n",
        "x0 = float(input(\"Enter initial position x0: \"))\n",
        "v0 = float(input(\"Enter initial velocity v0: \"))"
      ],
      "metadata": {
        "id": "nwO5z4BDC4FP"
      },
      "execution_count": null,
      "outputs": []
    },
    {
      "cell_type": "code",
      "source": [
        "# Define constants for the differential equation\n",
        "p = float(B ** 2 - 4 * A * C)\n",
        "lam1 = (-B - p ** 0.5) / 2 * A\n",
        "lam2 = (-B + p ** 0.5) / 2 * A\n",
        "alpha = B / (2 * A)\n",
        "beta = abs(((B ** 2 )/( 4 * A ** 2) - C / A) ** 0.5)"
      ],
      "metadata": {
        "id": "bqlpvQMhC9aR"
      },
      "execution_count": null,
      "outputs": []
    },
    {
      "cell_type": "code",
      "source": [
        "# Define time values for plotting the solution\n",
        "t = [i / 50 for i in range(1000)]"
      ],
      "metadata": {
        "id": "7A18xOzKDBOR"
      },
      "execution_count": null,
      "outputs": []
    },
    {
      "cell_type": "code",
      "source": [
        "# Compute solution to differential equation\n",
        "# Over-Damped Situation\n",
        "if p > 0:\n",
        "    print('Over-Damped')\n",
        "    D1 = (v0 - x0 * lam2) / (lam1 - lam2)\n",
        "    D2 = (v0 - x0 * lam1) / (lam2 - lam1)\n",
        "\n",
        "    x1 = []\n",
        "    for i in t:\n",
        "\n",
        "      x1 = x1 + [D1 * math.exp(lam1 * i) + D2 * math.exp(lam2 * i)]\n",
        "\n",
        "# Critically-Damped Situation\n",
        "elif p == 0.0:\n",
        "    print('Critically Damped')\n",
        "    x1 = []\n",
        "    for i in t:\n",
        "      x1 = x1 + [(x0 + (v0 - lam1 * x0) * i) * math.exp(lam1 * i)]\n",
        "\n",
        "# Under-Damped Situation\n",
        "else:\n",
        "    print('Under-damped')\n",
        "    x1 = []\n",
        "    for i in t:\n",
        "      x1 = x1 + [math.exp(-alpha * i) * (x0 * math.cos(beta * i) + (v0 + alpha * x0) * math.sin(beta * i) / beta)]"
      ],
      "metadata": {
        "id": "NAq0oxs_DBaL"
      },
      "execution_count": null,
      "outputs": []
    },
    {
      "cell_type": "code",
      "source": [
        "# Plot the solution using Plotly\n",
        "fig = px.line( x = t, y = x1)\n",
        "fig.show()"
      ],
      "metadata": {
        "id": "1PAd1U7wDBmQ"
      },
      "execution_count": null,
      "outputs": []
    }
  ]
}