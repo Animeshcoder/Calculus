{
  "nbformat": 4,
  "nbformat_minor": 0,
  "metadata": {
    "colab": {
      "provenance": [],
      "authorship_tag": "ABX9TyPkpU34OcyAl1Aw/B9frvE2",
      "include_colab_link": true
    },
    "kernelspec": {
      "name": "python3",
      "display_name": "Python 3"
    },
    "language_info": {
      "name": "python"
    }
  },
  "cells": [
    {
      "cell_type": "markdown",
      "metadata": {
        "id": "view-in-github",
        "colab_type": "text"
      },
      "source": [
        "<a href=\"https://colab.research.google.com/github/Animeshcoder/Calculus/blob/main/Damped_motion_differential.ipynb\" target=\"_parent\"><img src=\"https://colab.research.google.com/assets/colab-badge.svg\" alt=\"Open In Colab\"/></a>"
      ]
    },
    {
      "cell_type": "code",
      "execution_count": 10,
      "metadata": {
        "id": "anufPuLjCmmm"
      },
      "outputs": [],
      "source": [
        "# Python code for differential equation\n",
        "# Adding Required Modules\n",
        "import math\n",
        "import matplotlib.pyplot as plt"
      ]
    },
    {
      "cell_type": "code",
      "source": [
        "# Input Set-Up\n",
        "A = float(input(\"Enter value of A: \"))\n",
        "B = float(input(\"Enter value of B: \"))\n",
        "C = float(input(\"Enter value of C: \"))\n",
        "x0 = float(input(\"Enter initial position x0: \"))\n",
        "v0 = float(input(\"Enter initial velocity v0: \"))"
      ],
      "metadata": {
        "id": "nwO5z4BDC4FP",
        "colab": {
          "base_uri": "https://localhost:8080/"
        },
        "outputId": "b05c3e8c-1b58-43e3-f7cc-83ab4ab0bcc3"
      },
      "execution_count": 2,
      "outputs": [
        {
          "name": "stdout",
          "output_type": "stream",
          "text": [
            "Enter value of A: 2\n",
            "Enter value of B: 4\n",
            "Enter value of C: 2\n",
            "Enter initial position x0: 1\n",
            "Enter initial velocity v0: 1\n"
          ]
        }
      ]
    },
    {
      "cell_type": "code",
      "source": [
        "# Define constants for the differential equation\n",
        "p = float(B ** 2 - 4 * A * C)\n",
        "lam1 = (-B - p ** 0.5) / 2 * A\n",
        "lam2 = (-B + p ** 0.5) / 2 * A\n",
        "alpha = B / (2 * A)\n",
        "beta = abs(((B ** 2 )/( 4 * A ** 2) - C / A) ** 0.5)"
      ],
      "metadata": {
        "id": "bqlpvQMhC9aR"
      },
      "execution_count": 11,
      "outputs": []
    },
    {
      "cell_type": "code",
      "source": [
        "# Define time values for plotting the solution\n",
        "t = [i / 50 for i in range(1000)]"
      ],
      "metadata": {
        "id": "7A18xOzKDBOR"
      },
      "execution_count": 12,
      "outputs": []
    },
    {
      "cell_type": "code",
      "source": [
        "# Compute solution to differential equation\n",
        "# Over-Damped Situation\n",
        "if p > 0:\n",
        "    print('Over-Damped')\n",
        "    D1 = (v0 - x0 * lam2) / (lam1 - lam2)\n",
        "    D2 = (v0 - x0 * lam1) / (lam2 - lam1)\n",
        "\n",
        "    x1 = []\n",
        "    for i in t:\n",
        "\n",
        "      x1 = x1 + [D1 * math.exp(lam1 * i) + D2 * math.exp(lam2 * i)]\n",
        "\n",
        "# Critically-Damped Situation\n",
        "elif p == 0.0:\n",
        "    print('Critically Damped')\n",
        "    x1 = []\n",
        "    for i in t:\n",
        "      x1 = x1 + [(x0 + (v0 - lam1 * x0) * i) * math.exp(lam1 * i)]\n",
        "\n",
        "# Under-Damped Situation\n",
        "else:\n",
        "    print('Under-damped')\n",
        "    x1 = []\n",
        "    for i in t:\n",
        "      x1 = x1 + [math.exp(-alpha * i) * (x0 * math.cos(beta * i) + (v0 + alpha * x0) * math.sin(beta * i) / beta)]"
      ],
      "metadata": {
        "id": "NAq0oxs_DBaL",
        "colab": {
          "base_uri": "https://localhost:8080/"
        },
        "outputId": "c085483e-d8e0-45fb-83b4-5481dceef86a"
      },
      "execution_count": 13,
      "outputs": [
        {
          "output_type": "stream",
          "name": "stdout",
          "text": [
            "Critically Damped\n"
          ]
        }
      ]
    },
    {
      "cell_type": "code",
      "source": [
        "\n",
        "# Plot the results\n",
        "plt.plot(t, x1, label='Damped Motion')\n",
        "plt.xlabel('x')\n",
        "plt.ylabel('y')\n",
        "plt.title('Damped Motion Graph')\n",
        "plt.legend()\n",
        "plt.show()"
      ],
      "metadata": {
        "id": "1PAd1U7wDBmQ",
        "colab": {
          "base_uri": "https://localhost:8080/",
          "height": 295
        },
        "outputId": "2fd9048d-8d48-48b8-8886-a172bc025864"
      },
      "execution_count": 14,
      "outputs": [
        {
          "output_type": "display_data",
          "data": {
            "text/plain": [
              "<Figure size 432x288 with 1 Axes>"
            ],
            "image/png": "[encoded data removed]"
          },
          "metadata": {
            "needs_background": "light"
          }
        }
      ]
    }
  ]
}